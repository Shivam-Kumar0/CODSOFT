{
 "cells": [
  {
   "cell_type": "code",
   "execution_count": null,
   "id": "9e6523a6-4c66-47f7-8ffd-a22c61770412",
   "metadata": {},
   "outputs": [
    {
     "name": "stdout",
     "output_type": "stream",
     "text": [
      "\n",
      "=== Contact Book Menu ===\n",
      "1. Add Contact\n",
      "2. View Contacts\n",
      "3. Search Contact\n",
      "4. Update Contact\n",
      "5. Delete Contact\n",
      "6. Exit\n"
     ]
    },
    {
     "name": "stdin",
     "output_type": "stream",
     "text": [
      "Enter your choice:  1\n",
      "Enter contact name:  Harry\n",
      "Enter contact phone number:  9955668844\n",
      "Enter contact email:  harry@gmail.com\n",
      "Enter contact address:  None\n"
     ]
    },
    {
     "name": "stdout",
     "output_type": "stream",
     "text": [
      "Contact 'Harry' added successfully.\n",
      "\n",
      "=== Contact Book Menu ===\n",
      "1. Add Contact\n",
      "2. View Contacts\n",
      "3. Search Contact\n",
      "4. Update Contact\n",
      "5. Delete Contact\n",
      "6. Exit\n"
     ]
    },
    {
     "name": "stdin",
     "output_type": "stream",
     "text": [
      "Enter your choice:  2\n"
     ]
    },
    {
     "name": "stdout",
     "output_type": "stream",
     "text": [
      "Contact List:\n",
      "Name: Harry, Phone: 9955668844\n",
      "\n",
      "=== Contact Book Menu ===\n",
      "1. Add Contact\n",
      "2. View Contacts\n",
      "3. Search Contact\n",
      "4. Update Contact\n",
      "5. Delete Contact\n",
      "6. Exit\n"
     ]
    }
   ],
   "source": [
    "class ContactBook:\n",
    "    def __init__(self):\n",
    "        self.contacts = {}\n",
    "    \n",
    "    def add_contact(self, name, phone, email, address):\n",
    "        if phone in self.contacts:\n",
    "            print(f\"Contact with phone number {phone} already exists.\")\n",
    "        else:\n",
    "            self.contacts[phone] = {\n",
    "                'name': name,\n",
    "                'email': email,\n",
    "                'address': address\n",
    "            }\n",
    "            print(f\"Contact '{name}' added successfully.\")\n",
    "    \n",
    "    def view_contacts(self):\n",
    "        if not self.contacts:\n",
    "            print(\"Contact list is empty.\")\n",
    "        else:\n",
    "            print(\"Contact List:\")\n",
    "            for phone, contact in self.contacts.items():\n",
    "                print(f\"Name: {contact['name']}, Phone: {phone}\")\n",
    "    \n",
    "    def search_contact(self, query):\n",
    "        found = False\n",
    "        for phone, contact in self.contacts.items():\n",
    "            if query.lower() in contact['name'].lower() or query in phone:\n",
    "                print(f\"Name: {contact['name']}\")\n",
    "                print(f\"Phone: {phone}\")\n",
    "                print(f\"Email: {contact['email']}\")\n",
    "                print(f\"Address: {contact['address']}\")\n",
    "                found = True\n",
    "        if not found:\n",
    "            print(f\"No contacts found for '{query}'.\")\n",
    "    \n",
    "    def update_contact(self, phone, name=None, email=None, address=None):\n",
    "        if phone in self.contacts:\n",
    "            if name:\n",
    "                self.contacts[phone]['name'] = name\n",
    "            if email:\n",
    "                self.contacts[phone]['email'] = email\n",
    "            if address:\n",
    "                self.contacts[phone]['address'] = address\n",
    "            print(f\"Contact with phone number {phone} updated successfully.\")\n",
    "        else:\n",
    "            print(f\"Contact with phone number {phone} not found.\")\n",
    "    \n",
    "    def delete_contact(self, phone):\n",
    "        if phone in self.contacts:\n",
    "            del self.contacts[phone]\n",
    "            print(f\"Contact with phone number {phone} deleted successfully.\")\n",
    "        else:\n",
    "            print(f\"Contact with phone number {phone} not found.\")\n",
    "    \n",
    "    def menu(self):\n",
    "        while True:\n",
    "            print(\"\\n=== Contact Book Menu ===\")\n",
    "            print(\"1. Add Contact\")\n",
    "            print(\"2. View Contacts\")\n",
    "            print(\"3. Search Contact\")\n",
    "            print(\"4. Update Contact\")\n",
    "            print(\"5. Delete Contact\")\n",
    "            print(\"6. Exit\")\n",
    "            \n",
    "            choice = input(\"Enter your choice: \")\n",
    "            \n",
    "            if choice == '1':\n",
    "                name = input(\"Enter contact name: \")\n",
    "                phone = input(\"Enter contact phone number: \")\n",
    "                email = input(\"Enter contact email: \")\n",
    "                address = input(\"Enter contact address: \")\n",
    "                self.add_contact(name, phone, email, address)\n",
    "            elif choice == '2':\n",
    "                self.view_contacts()\n",
    "            elif choice == '3':\n",
    "                query = input(\"Enter name or phone number to search: \")\n",
    "                self.search_contact(query)\n",
    "            elif choice == '4':\n",
    "                phone = input(\"Enter phone number of the contact to update: \")\n",
    "                name = input(\"Enter new name (leave blank to keep current): \")\n",
    "                email = input(\"Enter new email (leave blank to keep current): \")\n",
    "                address = input(\"Enter new address (leave blank to keep current): \")\n",
    "                self.update_contact(phone, name, email, address)\n",
    "            elif choice == '5':\n",
    "                phone = input(\"Enter phone number of the contact to delete: \")\n",
    "                self.delete_contact(phone)\n",
    "            elif choice == '6':\n",
    "                print(\"Exiting the program...\")\n",
    "                break\n",
    "            else:\n",
    "                print(\"Invalid choice. Please enter a valid option (1-6).\")\n",
    "\n",
    "# Main function to run the application\n",
    "def main():\n",
    "    contact_book = ContactBook()\n",
    "    contact_book.menu()\n",
    "\n",
    "if __name__ == \"__main__\":\n",
    "    main()\n"
   ]
  },
  {
   "cell_type": "code",
   "execution_count": null,
   "id": "ac087ff1-7e4d-443b-829c-6ab5d9283995",
   "metadata": {},
   "outputs": [],
   "source": []
  }
 ],
 "metadata": {
  "kernelspec": {
   "display_name": "Python 3 (ipykernel)",
   "language": "python",
   "name": "python3"
  },
  "language_info": {
   "codemirror_mode": {
    "name": "ipython",
    "version": 3
   },
   "file_extension": ".py",
   "mimetype": "text/x-python",
   "name": "python",
   "nbconvert_exporter": "python",
   "pygments_lexer": "ipython3",
   "version": "3.11.7"
  }
 },
 "nbformat": 4,
 "nbformat_minor": 5
}
