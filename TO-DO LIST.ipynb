{
 "cells": [
  {
   "cell_type": "code",
   "execution_count": null,
   "id": "a7c541a4-fcd3-4f5a-ae2d-8a53e9e1e86e",
   "metadata": {},
   "outputs": [
    {
     "name": "stdout",
     "output_type": "stream",
     "text": [
      "\n",
      "=== To-Do List Menu ===\n",
      "1. Add Task\n",
      "2. View Tasks\n",
      "3. Mark Task as Completed\n",
      "4. Delete Task\n",
      "5. Exit\n"
     ]
    },
    {
     "name": "stdin",
     "output_type": "stream",
     "text": [
      "Enter your choice:  1\n",
      "Enter task name:  Boil Milk\n",
      "Enter task description:  Boil Milk For 3 Min\n"
     ]
    },
    {
     "name": "stdout",
     "output_type": "stream",
     "text": [
      "Task 'Boil Milk' added with ID 1\n",
      "\n",
      "=== To-Do List Menu ===\n",
      "1. Add Task\n",
      "2. View Tasks\n",
      "3. Mark Task as Completed\n",
      "4. Delete Task\n",
      "5. Exit\n"
     ]
    },
    {
     "name": "stdin",
     "output_type": "stream",
     "text": [
      "Enter your choice:  2\n"
     ]
    },
    {
     "name": "stdout",
     "output_type": "stream",
     "text": [
      "Tasks:\n",
      "ID: 1, Name: Boil Milk, Description: Boil Milk For 3 Min, Status: Not Completed\n",
      "\n",
      "=== To-Do List Menu ===\n",
      "1. Add Task\n",
      "2. View Tasks\n",
      "3. Mark Task as Completed\n",
      "4. Delete Task\n",
      "5. Exit\n"
     ]
    }
   ],
   "source": [
    "class TodoList:\n",
    "    def __init__(self):\n",
    "        self.tasks = {}\n",
    "        self.last_task_id = 0\n",
    "    \n",
    "    def add_task(self, name, description):\n",
    "        self.last_task_id += 1\n",
    "        self.tasks[self.last_task_id] = {\n",
    "            'name': name,\n",
    "            'description': description,\n",
    "            'completed': False\n",
    "        }\n",
    "        print(f\"Task '{name}' added with ID {self.last_task_id}\")\n",
    "    \n",
    "    def view_tasks(self):\n",
    "        if not self.tasks:\n",
    "            print(\"No tasks found.\")\n",
    "        else:\n",
    "            print(\"Tasks:\")\n",
    "            for task_id, task in self.tasks.items():\n",
    "                status = 'Completed' if task['completed'] else 'Not Completed'\n",
    "                print(f\"ID: {task_id}, Name: {task['name']}, Description: {task['description']}, Status: {status}\")\n",
    "    \n",
    "    def mark_task_completed(self, task_id):\n",
    "        if task_id in self.tasks:\n",
    "            self.tasks[task_id]['completed'] = True\n",
    "            print(f\"Task ID {task_id} marked as completed.\")\n",
    "        else:\n",
    "            print(f\"Task ID {task_id} not found.\")\n",
    "    \n",
    "    def delete_task(self, task_id):\n",
    "        if task_id in self.tasks:\n",
    "            del self.tasks[task_id]\n",
    "            print(f\"Task ID {task_id} deleted successfully.\")\n",
    "        else:\n",
    "            print(f\"Task ID {task_id} not found.\")\n",
    "    \n",
    "    def menu(self):\n",
    "        while True:\n",
    "            print(\"\\n=== To-Do List Menu ===\")\n",
    "            print(\"1. Add Task\")\n",
    "            print(\"2. View Tasks\")\n",
    "            print(\"3. Mark Task as Completed\")\n",
    "            print(\"4. Delete Task\")\n",
    "            print(\"5. Exit\")\n",
    "            \n",
    "            choice = input(\"Enter your choice: \")\n",
    "            \n",
    "            if choice == '1':\n",
    "                name = input(\"Enter task name: \")\n",
    "                description = input(\"Enter task description: \")\n",
    "                self.add_task(name, description)\n",
    "            elif choice == '2':\n",
    "                self.view_tasks()\n",
    "            elif choice == '3':\n",
    "                task_id = int(input(\"Enter task ID to mark as completed: \"))\n",
    "                self.mark_task_completed(task_id)\n",
    "            elif choice == '4':\n",
    "                task_id = int(input(\"Enter task ID to delete: \"))\n",
    "                self.delete_task(task_id)\n",
    "            elif choice == '5':\n",
    "                print(\"Exiting the program...\")\n",
    "                break\n",
    "            else:\n",
    "                print(\"Invalid choice. Please enter a valid option (1-5).\")\n",
    "\n",
    "# Main function to run the application\n",
    "def main():\n",
    "    todo_list = TodoList()\n",
    "    todo_list.menu()\n",
    "\n",
    "if __name__ == \"__main__\":\n",
    "    main()\n"
   ]
  },
  {
   "cell_type": "code",
   "execution_count": null,
   "id": "9cbabec6-96fc-439e-8115-801f5a2b8fae",
   "metadata": {},
   "outputs": [],
   "source": []
  }
 ],
 "metadata": {
  "kernelspec": {
   "display_name": "Python 3 (ipykernel)",
   "language": "python",
   "name": "python3"
  },
  "language_info": {
   "codemirror_mode": {
    "name": "ipython",
    "version": 3
   },
   "file_extension": ".py",
   "mimetype": "text/x-python",
   "name": "python",
   "nbconvert_exporter": "python",
   "pygments_lexer": "ipython3",
   "version": "3.11.7"
  }
 },
 "nbformat": 4,
 "nbformat_minor": 5
}
