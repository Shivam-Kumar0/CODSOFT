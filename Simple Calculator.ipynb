{
 "cells": [
  {
   "cell_type": "code",
   "execution_count": 4,
   "id": "011ac569-c091-4c71-8089-e2b3d8ad14d8",
   "metadata": {},
   "outputs": [
    {
     "name": "stdout",
     "output_type": "stream",
     "text": [
      "Welcome to Simple Calculator!\n",
      "Operations:\n",
      "1. Addition\n",
      "2. Subtraction\n",
      "3. Multiplication\n",
      "4. Division\n"
     ]
    },
    {
     "name": "stdin",
     "output_type": "stream",
     "text": [
      "Enter operation choice (1/2/3/4):  4\n",
      "Enter first number:  109\n",
      "Enter second number:  0\n"
     ]
    },
    {
     "name": "stdout",
     "output_type": "stream",
     "text": [
      "Result:  Error: Division by zero!\n"
     ]
    }
   ],
   "source": [
    "# Function to add two numbers\n",
    "def add(x, y):\n",
    "    return x + y\n",
    "\n",
    "# Function to subtract two numbers\n",
    "def subtract(x, y):\n",
    "    return x - y\n",
    "\n",
    "# Function to multiply two numbers\n",
    "def multiply(x, y):\n",
    "    return x * y\n",
    "\n",
    "# Function to divide two numbers\n",
    "def divide(x, y):\n",
    "    if y == 0:\n",
    "        return \"Error: Division by zero!\"\n",
    "    else:\n",
    "        return x / y\n",
    "\n",
    "# Main function to run the calculator\n",
    "def calculator():\n",
    "    print(\"Welcome to Simple Calculator!\")\n",
    "    print(\"Operations:\")\n",
    "    print(\"1. Addition\")\n",
    "    print(\"2. Subtraction\")\n",
    "    print(\"3. Multiplication\")\n",
    "    print(\"4. Division\")\n",
    "\n",
    "    # Take input from the user\n",
    "    choice = input(\"Enter operation choice (1/2/3/4): \")\n",
    "    num1 = float(input(\"Enter first number: \"))\n",
    "    num2 = float(input(\"Enter second number: \"))\n",
    "\n",
    "    result = 0\n",
    "    if choice == '1':\n",
    "        result = add(num1, num2)\n",
    "    elif choice == '2':\n",
    "        result = subtract(num1, num2)\n",
    "    elif choice == '3':\n",
    "        result = multiply(num1, num2)\n",
    "    elif choice == '4':\n",
    "        result = divide(num1, num2)\n",
    "    else:\n",
    "        print(\"Invalid input! Please choose a valid operation.\")\n",
    "\n",
    "    # Print the result\n",
    "    print(\"Result: \", result)\n",
    "\n",
    "# Run the calculator\n",
    "calculator()\n"
   ]
  },
  {
   "cell_type": "code",
   "execution_count": null,
   "id": "0a925e12-c79d-45f1-8e91-e8ed4b336b7d",
   "metadata": {},
   "outputs": [],
   "source": []
  }
 ],
 "metadata": {
  "kernelspec": {
   "display_name": "Python 3 (ipykernel)",
   "language": "python",
   "name": "python3"
  },
  "language_info": {
   "codemirror_mode": {
    "name": "ipython",
    "version": 3
   },
   "file_extension": ".py",
   "mimetype": "text/x-python",
   "name": "python",
   "nbconvert_exporter": "python",
   "pygments_lexer": "ipython3",
   "version": "3.11.7"
  }
 },
 "nbformat": 4,
 "nbformat_minor": 5
}
